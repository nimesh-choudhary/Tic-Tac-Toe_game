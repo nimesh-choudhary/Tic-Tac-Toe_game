{
 "cells": [
  {
   "cell_type": "code",
   "execution_count": 1,
   "id": "2a7e955d",
   "metadata": {},
   "outputs": [],
   "source": [
    "import numpy as np"
   ]
  },
  {
   "cell_type": "code",
   "execution_count": 2,
   "id": "c18c0101",
   "metadata": {},
   "outputs": [],
   "source": [
    "#Defines the states\n",
    "location_to_state = {\n",
    "    'L1': 0,\n",
    "    'L2': 1,\n",
    "    'L3': 2,\n",
    "    'L4': 3,\n",
    "    'L5': 4,\n",
    "    'L6': 5,\n",
    "    'L7': 6,\n",
    "    'L8': 7,\n",
    "    'L9': 8\n",
    "}"
   ]
  },
  {
   "cell_type": "code",
   "execution_count": 3,
   "id": "4dab6351",
   "metadata": {},
   "outputs": [],
   "source": [
    "#define the actions\n",
    "actions = [0,1,2,3,4,5,6,7,8]"
   ]
  },
  {
   "cell_type": "code",
   "execution_count": 4,
   "id": "58808733",
   "metadata": {},
   "outputs": [],
   "source": [
    "rewards = np.array([[0,1,0,0,0,0,0,0,0],\n",
    "                  [1,0,1,0,1,0,0,0,0],\n",
    "                  [0,1,0,0,0,1,0,0,0],\n",
    "                  [0,1,0,0,0,0,1,0,0],\n",
    "                  [0,1,0,0,0,0,0,1,0],\n",
    "                  [0,0,1,0,0,0,0,0,0],\n",
    "                  [0,0,0,1,0,0,0,1,0],\n",
    "                  [0,0,0,0,1,0,1,0,1],\n",
    "                  [0,0,0,0,0,0,0,1,0]])"
   ]
  },
  {
   "cell_type": "code",
   "execution_count": 11,
   "id": "86ee7578",
   "metadata": {},
   "outputs": [],
   "source": [
    "state_to_location = dict((state,location) for location,state in location_to_state.items())\n",
    "gamma = 0.75\n",
    "alpha = 0.9"
   ]
  },
  {
   "cell_type": "code",
   "execution_count": 26,
   "id": "714c579d",
   "metadata": {},
   "outputs": [],
   "source": [
    "def get_optimal_route(start_location, end_location):\n",
    "    rewards_new = np.copy(rewards)\n",
    "    ending_state = location_to_state[end_location]\n",
    "    rewards_new[ending_state, ending_state] = 999\n",
    "\n",
    "    Q = np.array(np.zeros([9, 9]))\n",
    "\n",
    "    # Q-Learning process\n",
    "    for i in range(1000):\n",
    "        current_state = np.random.randint(0, 9)#used to pick up the random state\n",
    "        playable_actions = []\n",
    "        # So now we will check the reward value from current_state to next state j is greater than zero or not \n",
    "        for j in range(9):\n",
    "            if rewards_new[current_state, j] > 0:\n",
    "                playable_actions.append(j) #reward value is greater than 0 then we will add into this list\n",
    "        # Pick a random action that will lead us to next state\n",
    "        next_state = np.random.choice(playable_actions) # now next_state will be the top most element of playable_actions list\n",
    "        # Computing Temporal Difference\n",
    "        TD = rewards_new[current_state, next_state] + gamma * Q[next_state, np.argmax(Q[next_state,])] - Q[\n",
    "            current_state, next_state]\n",
    "        # Updating the Q-Value using the Bellman equation\n",
    "        Q[current_state, next_state] += alpha * TD\n",
    "\n",
    "    # Initialize the optimal route with the starting location\n",
    "    route = [start_location]\n",
    "    # Initialize next_location with starting location\n",
    "    next_location = start_location\n",
    "\n",
    "    # We don't know about the exact number of iterations needed to reach to the final location hence while loop will be a good choice for iteratiing\n",
    "    while (next_location != end_location):\n",
    "        # Fetch the starting state\n",
    "        starting_state = location_to_state[start_location]\n",
    "        # Fetch the highest Q-value pertaining to starting state\n",
    "        next_state = np.argmax(Q[starting_state,])\n",
    "        # We got the index of the next state. But we need the corresponding letter.\n",
    "        next_location = state_to_location[next_state]\n",
    "        route.append(next_location)\n",
    "        # Update the starting location for the next iteration\n",
    "        start_location = next_location\n",
    "\n",
    "    return route, Q"
   ]
  },
  {
   "cell_type": "code",
   "execution_count": 29,
   "id": "7647087d",
   "metadata": {},
   "outputs": [
    {
     "name": "stdout",
     "output_type": "stream",
     "text": [
      "Optimal Path ->  ['L1', 'L2', 'L5', 'L8', 'L9']\n",
      "Q-Table ->\n",
      " [[   0.         1267.08330176    0.            0.            0.\n",
      "     0.            0.            0.            0.        ]\n",
      " [ 951.31231932    0.          951.31215236    0.         1688.11106913\n",
      "     0.            0.            0.            0.        ]\n",
      " [   0.         1267.08329304    0.            0.            0.\n",
      "   714.47822447    0.            0.            0.        ]\n",
      " [   0.         1267.08330157    0.            0.            0.\n",
      "     0.         1688.11678477    0.            0.        ]\n",
      " [   0.         1267.08330184    0.            0.            0.\n",
      "     0.            0.         2249.48143351    0.        ]\n",
      " [   0.            0.          951.31239925    0.            0.\n",
      "     0.            0.            0.            0.        ]\n",
      " [   0.            0.            0.         1267.08511677    0.\n",
      "     0.            0.         2249.48905087    0.        ]\n",
      " [   0.            0.            0.            0.         1688.11107484\n",
      "     0.         1688.11642553    0.         2997.9854017 ]\n",
      " [   0.            0.            0.            0.            0.\n",
      "     0.            0.         2249.48905124 3995.99299882]]\n"
     ]
    }
   ],
   "source": [
    "route, Q = get_optimal_route('L1','L9')\n",
    "print(\"Optimal Path -> \",route)\n",
    "print(\"Q-Table ->\\n\",Q)"
   ]
  },
  {
   "cell_type": "code",
   "execution_count": null,
   "id": "060da437",
   "metadata": {},
   "outputs": [],
   "source": []
  }
 ],
 "metadata": {
  "kernelspec": {
   "display_name": "Python 3 (ipykernel)",
   "language": "python",
   "name": "python3"
  },
  "language_info": {
   "codemirror_mode": {
    "name": "ipython",
    "version": 3
   },
   "file_extension": ".py",
   "mimetype": "text/x-python",
   "name": "python",
   "nbconvert_exporter": "python",
   "pygments_lexer": "ipython3",
   "version": "3.9.7"
  }
 },
 "nbformat": 4,
 "nbformat_minor": 5
}
